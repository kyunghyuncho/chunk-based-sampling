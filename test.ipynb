{
 "cells": [
  {
   "cell_type": "code",
   "execution_count": 1,
   "metadata": {},
   "outputs": [],
   "source": [
    "import torch\n",
    "from transformers import AutoTokenizer, AutoModelForCausalLM"
   ]
  },
  {
   "cell_type": "code",
   "execution_count": 2,
   "metadata": {},
   "outputs": [],
   "source": [
    "from tqdm import tqdm"
   ]
  },
  {
   "cell_type": "code",
   "execution_count": 9,
   "metadata": {},
   "outputs": [],
   "source": [
    "import time"
   ]
  },
  {
   "cell_type": "code",
   "execution_count": 3,
   "metadata": {},
   "outputs": [],
   "source": [
    "# Load pre-trained model tokenizer\n",
    "tokenizer = AutoTokenizer.from_pretrained(\"gpt2\")\n",
    "\n",
    "# Set padding token\n",
    "tokenizer.pad_token = tokenizer.eos_token\n",
    "\n",
    "# Load pre-trained model (weights)\n",
    "model = AutoModelForCausalLM.from_pretrained(\"gpt2\")"
   ]
  },
  {
   "cell_type": "code",
   "execution_count": 4,
   "metadata": {},
   "outputs": [],
   "source": [
    "model = model.eval()"
   ]
  },
  {
   "cell_type": "code",
   "execution_count": 5,
   "metadata": {},
   "outputs": [],
   "source": [
    "from chunk_continuation import chunk_continuation"
   ]
  },
  {
   "cell_type": "code",
   "execution_count": 6,
   "metadata": {},
   "outputs": [],
   "source": [
    "setup_sequence = [\n",
    "    {'prefix': \"My name is \", \n",
    "     'candidate_set': [\"John\", \"Jane\", \"Alice\", \"Bob\", \"Charlie\"],\n",
    "     'suffix': '.'},\n",
    "    {'prefix': \"Outside it is \", \n",
    "     'candidate_set': [\"sunny\", \"rainy\", \"snowy\", \"cold\", \"hot\"],\n",
    "     'suffix': '.'},\n",
    "    {'prefix': \"I should \",\n",
    "     'candidate_set': [\"go to the gym\", \"go for a run outside\"],\n",
    "     'suffix': '.'},\n",
    "    {'prefix': \"This will \",\n",
    "     'candidate_set': [\"improve my marathon record\", \"worsen my marathon record\"],\n",
    "     'suffix': '.'}\n",
    "]"
   ]
  },
  {
   "cell_type": "code",
   "execution_count": 10,
   "metadata": {},
   "outputs": [
    {
     "name": "stderr",
     "output_type": "stream",
     "text": [
      "100%|██████████| 100/100 [01:43<00:00,  1.03s/it]"
     ]
    },
    {
     "name": "stdout",
     "output_type": "stream",
     "text": [
      "Generated 100 samples in 103.03 seconds\n"
     ]
    },
    {
     "name": "stderr",
     "output_type": "stream",
     "text": [
      "\n"
     ]
    }
   ],
   "source": [
    "start_time = time.time()\n",
    "\n",
    "n_samples = 100\n",
    "samples = []\n",
    "\n",
    "for i in tqdm(range(n_samples)):\n",
    "    prefix = \"\"\n",
    "\n",
    "    for setup in setup_sequence:\n",
    "        prefix = prefix + ' ' + setup['prefix']\n",
    "\n",
    "        sampled_text = chunk_continuation(model, \n",
    "                                          tokenizer, \n",
    "                                          prefix, \n",
    "                                          setup['candidate_set'],\n",
    "                                          setup['suffix'],\n",
    "                                          sum=False,\n",
    "                                          verbose=False)\n",
    "        prefix = sampled_text\n",
    "    \n",
    "    samples.append(sampled_text)\n",
    "\n",
    "print(f\"Generated {n_samples} samples in {time.time() - start_time:.2f} seconds\")"
   ]
  },
  {
   "cell_type": "code",
   "execution_count": 12,
   "metadata": {},
   "outputs": [
    {
     "name": "stdout",
     "output_type": "stream",
     "text": [
      "My name is Alice. Outside it is hot. I should go for a run outside. This will improve my marathon record.\n",
      "My name is Alice. Outside it is hot. I should go for a run outside. This will worsen my marathon record.\n",
      "My name is Alice. Outside it is hot. I should go to the gym. This will worsen my marathon record.\n",
      "My name is Alice. Outside it is rainy. I should go for a run outside. This will improve my marathon record.\n",
      "My name is Alice. Outside it is snowy. I should go for a run outside. This will improve my marathon record.\n",
      "My name is Alice. Outside it is snowy. I should go for a run outside. This will worsen my marathon record.\n",
      "My name is Alice. Outside it is snowy. I should go for a run outside. This will worsen my marathon record.\n",
      "My name is Alice. Outside it is snowy. I should go to the gym. This will worsen my marathon record.\n",
      "My name is Alice. Outside it is sunny. I should go to the gym. This will improve my marathon record.\n",
      "My name is Alice. Outside it is sunny. I should go to the gym. This will improve my marathon record.\n",
      "My name is Alice. Outside it is sunny. I should go to the gym. This will worsen my marathon record.\n",
      "My name is Alice. Outside it is sunny. I should go to the gym. This will worsen my marathon record.\n",
      "My name is Alice. Outside it is sunny. I should go to the gym. This will worsen my marathon record.\n",
      "My name is Alice. Outside it is sunny. I should go to the gym. This will worsen my marathon record.\n",
      "My name is Bob. Outside it is cold. I should go to the gym. This will improve my marathon record.\n",
      "My name is Bob. Outside it is hot. I should go to the gym. This will improve my marathon record.\n",
      "My name is Bob. Outside it is hot. I should go to the gym. This will improve my marathon record.\n",
      "My name is Bob. Outside it is hot. I should go to the gym. This will worsen my marathon record.\n",
      "My name is Bob. Outside it is hot. I should go to the gym. This will worsen my marathon record.\n",
      "My name is Bob. Outside it is hot. I should go to the gym. This will worsen my marathon record.\n",
      "My name is Bob. Outside it is hot. I should go to the gym. This will worsen my marathon record.\n",
      "My name is Bob. Outside it is rainy. I should go to the gym. This will worsen my marathon record.\n",
      "My name is Bob. Outside it is snowy. I should go for a run outside. This will improve my marathon record.\n",
      "My name is Bob. Outside it is snowy. I should go to the gym. This will improve my marathon record.\n",
      "My name is Bob. Outside it is snowy. I should go to the gym. This will worsen my marathon record.\n",
      "My name is Bob. Outside it is snowy. I should go to the gym. This will worsen my marathon record.\n",
      "My name is Bob. Outside it is sunny. I should go for a run outside. This will worsen my marathon record.\n",
      "My name is Bob. Outside it is sunny. I should go to the gym. This will improve my marathon record.\n",
      "My name is Bob. Outside it is sunny. I should go to the gym. This will improve my marathon record.\n",
      "My name is Bob. Outside it is sunny. I should go to the gym. This will improve my marathon record.\n",
      "My name is Bob. Outside it is sunny. I should go to the gym. This will worsen my marathon record.\n",
      "My name is Bob. Outside it is sunny. I should go to the gym. This will worsen my marathon record.\n",
      "My name is Charlie. Outside it is hot. I should go for a run outside. This will worsen my marathon record.\n",
      "My name is Charlie. Outside it is sunny. I should go for a run outside. This will improve my marathon record.\n",
      "My name is Jane. Outside it is cold. I should go for a run outside. This will worsen my marathon record.\n",
      "My name is Jane. Outside it is cold. I should go for a run outside. This will worsen my marathon record.\n",
      "My name is Jane. Outside it is cold. I should go for a run outside. This will worsen my marathon record.\n",
      "My name is Jane. Outside it is cold. I should go for a run outside. This will worsen my marathon record.\n",
      "My name is Jane. Outside it is cold. I should go to the gym. This will improve my marathon record.\n",
      "My name is Jane. Outside it is cold. I should go to the gym. This will worsen my marathon record.\n",
      "My name is Jane. Outside it is cold. I should go to the gym. This will worsen my marathon record.\n",
      "My name is Jane. Outside it is cold. I should go to the gym. This will worsen my marathon record.\n",
      "My name is Jane. Outside it is cold. I should go to the gym. This will worsen my marathon record.\n",
      "My name is Jane. Outside it is cold. I should go to the gym. This will worsen my marathon record.\n",
      "My name is Jane. Outside it is hot. I should go for a run outside. This will improve my marathon record.\n",
      "My name is Jane. Outside it is hot. I should go for a run outside. This will improve my marathon record.\n",
      "My name is Jane. Outside it is hot. I should go for a run outside. This will improve my marathon record.\n",
      "My name is Jane. Outside it is hot. I should go for a run outside. This will improve my marathon record.\n",
      "My name is Jane. Outside it is hot. I should go for a run outside. This will improve my marathon record.\n",
      "My name is Jane. Outside it is hot. I should go for a run outside. This will worsen my marathon record.\n",
      "My name is Jane. Outside it is hot. I should go for a run outside. This will worsen my marathon record.\n",
      "My name is Jane. Outside it is hot. I should go for a run outside. This will worsen my marathon record.\n",
      "My name is Jane. Outside it is hot. I should go for a run outside. This will worsen my marathon record.\n",
      "My name is Jane. Outside it is hot. I should go for a run outside. This will worsen my marathon record.\n",
      "My name is Jane. Outside it is hot. I should go to the gym. This will improve my marathon record.\n",
      "My name is Jane. Outside it is hot. I should go to the gym. This will improve my marathon record.\n",
      "My name is Jane. Outside it is hot. I should go to the gym. This will improve my marathon record.\n",
      "My name is Jane. Outside it is hot. I should go to the gym. This will improve my marathon record.\n",
      "My name is Jane. Outside it is hot. I should go to the gym. This will worsen my marathon record.\n",
      "My name is Jane. Outside it is hot. I should go to the gym. This will worsen my marathon record.\n",
      "My name is Jane. Outside it is hot. I should go to the gym. This will worsen my marathon record.\n",
      "My name is Jane. Outside it is hot. I should go to the gym. This will worsen my marathon record.\n",
      "My name is Jane. Outside it is hot. I should go to the gym. This will worsen my marathon record.\n",
      "My name is Jane. Outside it is rainy. I should go for a run outside. This will worsen my marathon record.\n",
      "My name is Jane. Outside it is rainy. I should go for a run outside. This will worsen my marathon record.\n",
      "My name is Jane. Outside it is rainy. I should go to the gym. This will worsen my marathon record.\n",
      "My name is Jane. Outside it is snowy. I should go for a run outside. This will improve my marathon record.\n",
      "My name is Jane. Outside it is snowy. I should go for a run outside. This will worsen my marathon record.\n",
      "My name is Jane. Outside it is snowy. I should go for a run outside. This will worsen my marathon record.\n",
      "My name is Jane. Outside it is snowy. I should go for a run outside. This will worsen my marathon record.\n",
      "My name is Jane. Outside it is snowy. I should go for a run outside. This will worsen my marathon record.\n",
      "My name is Jane. Outside it is snowy. I should go for a run outside. This will worsen my marathon record.\n",
      "My name is Jane. Outside it is snowy. I should go for a run outside. This will worsen my marathon record.\n",
      "My name is Jane. Outside it is snowy. I should go to the gym. This will improve my marathon record.\n",
      "My name is Jane. Outside it is snowy. I should go to the gym. This will worsen my marathon record.\n",
      "My name is Jane. Outside it is snowy. I should go to the gym. This will worsen my marathon record.\n",
      "My name is Jane. Outside it is snowy. I should go to the gym. This will worsen my marathon record.\n",
      "My name is Jane. Outside it is snowy. I should go to the gym. This will worsen my marathon record.\n",
      "My name is Jane. Outside it is snowy. I should go to the gym. This will worsen my marathon record.\n",
      "My name is Jane. Outside it is snowy. I should go to the gym. This will worsen my marathon record.\n",
      "My name is Jane. Outside it is snowy. I should go to the gym. This will worsen my marathon record.\n",
      "My name is Jane. Outside it is snowy. I should go to the gym. This will worsen my marathon record.\n",
      "My name is Jane. Outside it is snowy. I should go to the gym. This will worsen my marathon record.\n",
      "My name is Jane. Outside it is sunny. I should go for a run outside. This will improve my marathon record.\n",
      "My name is Jane. Outside it is sunny. I should go for a run outside. This will improve my marathon record.\n",
      "My name is Jane. Outside it is sunny. I should go for a run outside. This will worsen my marathon record.\n",
      "My name is Jane. Outside it is sunny. I should go for a run outside. This will worsen my marathon record.\n",
      "My name is Jane. Outside it is sunny. I should go for a run outside. This will worsen my marathon record.\n",
      "My name is Jane. Outside it is sunny. I should go to the gym. This will improve my marathon record.\n",
      "My name is Jane. Outside it is sunny. I should go to the gym. This will worsen my marathon record.\n",
      "My name is Jane. Outside it is sunny. I should go to the gym. This will worsen my marathon record.\n",
      "My name is Jane. Outside it is sunny. I should go to the gym. This will worsen my marathon record.\n",
      "My name is Jane. Outside it is sunny. I should go to the gym. This will worsen my marathon record.\n",
      "My name is Jane. Outside it is sunny. I should go to the gym. This will worsen my marathon record.\n",
      "My name is John. Outside it is hot. I should go for a run outside. This will worsen my marathon record.\n",
      "My name is John. Outside it is hot. I should go to the gym. This will worsen my marathon record.\n",
      "My name is John. Outside it is snowy. I should go for a run outside. This will worsen my marathon record.\n",
      "My name is John. Outside it is snowy. I should go for a run outside. This will worsen my marathon record.\n",
      "My name is John. Outside it is snowy. I should go to the gym. This will worsen my marathon record.\n",
      "My name is John. Outside it is snowy. I should go to the gym. This will worsen my marathon record.\n"
     ]
    }
   ],
   "source": [
    "# sort `samples` alphabetically and print them.\n",
    "samples.sort()\n",
    "\n",
    "for sample in samples:\n",
    "    print(sample)"
   ]
  },
  {
   "cell_type": "code",
   "execution_count": null,
   "metadata": {},
   "outputs": [],
   "source": []
  }
 ],
 "metadata": {
  "language_info": {
   "name": "python"
  }
 },
 "nbformat": 4,
 "nbformat_minor": 2
}
